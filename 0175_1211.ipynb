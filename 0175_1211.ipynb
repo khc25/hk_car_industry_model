{
 "cells": [
  {
   "cell_type": "code",
   "execution_count": 1,
   "metadata": {},
   "outputs": [],
   "source": [
    "import pandas as pd\n",
    "import numpy as np"
   ]
  },
  {
   "cell_type": "code",
   "execution_count": 6,
   "metadata": {
    "scrolled": true
   },
   "outputs": [],
   "source": [
    "one = pd.read_csv(\"0175.HK.csv\")"
   ]
  },
  {
   "cell_type": "code",
   "execution_count": 11,
   "metadata": {},
   "outputs": [
    {
     "data": {
      "text/plain": [
       "0       2005-09-29\n",
       "1       2005-09-30\n",
       "2       2005-10-03\n",
       "3       2005-10-04\n",
       "4       2005-10-05\n",
       "           ...    \n",
       "3814    2021-03-10\n",
       "3815    2021-03-11\n",
       "3816    2021-03-12\n",
       "3817    2021-03-15\n",
       "3818    2021-03-16\n",
       "Name: Date, Length: 3819, dtype: object"
      ]
     },
     "execution_count": 11,
     "metadata": {},
     "output_type": "execute_result"
    }
   ],
   "source": [
    "one.Date"
   ]
  },
  {
   "cell_type": "code",
   "execution_count": 12,
   "metadata": {},
   "outputs": [],
   "source": [
    "two = pd.read_csv(\"1211.HK.csv\")"
   ]
  },
  {
   "cell_type": "code",
   "execution_count": 13,
   "metadata": {},
   "outputs": [
    {
     "data": {
      "text/plain": [
       "0       2002-07-31\n",
       "1       2002-08-01\n",
       "2       2002-08-02\n",
       "3       2002-08-05\n",
       "4       2002-08-06\n",
       "           ...    \n",
       "4630    2021-03-10\n",
       "4631    2021-03-11\n",
       "4632    2021-03-12\n",
       "4633    2021-03-15\n",
       "4634    2021-03-16\n",
       "Name: Date, Length: 4635, dtype: object"
      ]
     },
     "execution_count": 13,
     "metadata": {},
     "output_type": "execute_result"
    }
   ],
   "source": [
    "two.Date"
   ]
  },
  {
   "cell_type": "code",
   "execution_count": null,
   "metadata": {},
   "outputs": [],
   "source": [
    "pd.DataFrame.join()"
   ]
  },
  {
   "cell_type": "code",
   "execution_count": 17,
   "metadata": {},
   "outputs": [],
   "source": [
    "add = one.merge(two, on='Date', how='inner', indicator=True)"
   ]
  },
  {
   "cell_type": "code",
   "execution_count": 34,
   "metadata": {},
   "outputs": [],
   "source": [
    "newAdd = add.dropna()"
   ]
  },
  {
   "cell_type": "code",
   "execution_count": 38,
   "metadata": {},
   "outputs": [
    {
     "data": {
      "text/html": [
       "<div>\n",
       "<style scoped>\n",
       "    .dataframe tbody tr th:only-of-type {\n",
       "        vertical-align: middle;\n",
       "    }\n",
       "\n",
       "    .dataframe tbody tr th {\n",
       "        vertical-align: top;\n",
       "    }\n",
       "\n",
       "    .dataframe thead th {\n",
       "        text-align: right;\n",
       "    }\n",
       "</style>\n",
       "<table border=\"1\" class=\"dataframe\">\n",
       "  <thead>\n",
       "    <tr style=\"text-align: right;\">\n",
       "      <th></th>\n",
       "      <th>Date</th>\n",
       "      <th>Open_x</th>\n",
       "      <th>High_x</th>\n",
       "      <th>Low_x</th>\n",
       "      <th>Close_x</th>\n",
       "      <th>Adj Close_x</th>\n",
       "      <th>Volume_x</th>\n",
       "      <th>Open_y</th>\n",
       "      <th>High_y</th>\n",
       "      <th>Low_y</th>\n",
       "      <th>Close_y</th>\n",
       "      <th>Adj Close_y</th>\n",
       "      <th>Volume_y</th>\n",
       "      <th>_merge</th>\n",
       "    </tr>\n",
       "  </thead>\n",
       "  <tbody>\n",
       "    <tr>\n",
       "      <th>0</th>\n",
       "      <td>2005-09-29</td>\n",
       "      <td>0.410000</td>\n",
       "      <td>0.430000</td>\n",
       "      <td>0.410</td>\n",
       "      <td>0.430000</td>\n",
       "      <td>0.360377</td>\n",
       "      <td>3840.0</td>\n",
       "      <td>2.669669</td>\n",
       "      <td>2.798846</td>\n",
       "      <td>2.669669</td>\n",
       "      <td>2.798846</td>\n",
       "      <td>2.668765</td>\n",
       "      <td>8595147.0</td>\n",
       "      <td>both</td>\n",
       "    </tr>\n",
       "    <tr>\n",
       "      <th>1</th>\n",
       "      <td>2005-09-30</td>\n",
       "      <td>0.430000</td>\n",
       "      <td>0.440000</td>\n",
       "      <td>0.430</td>\n",
       "      <td>0.435000</td>\n",
       "      <td>0.364567</td>\n",
       "      <td>2235.0</td>\n",
       "      <td>2.884964</td>\n",
       "      <td>2.884964</td>\n",
       "      <td>2.648139</td>\n",
       "      <td>2.680433</td>\n",
       "      <td>2.555856</td>\n",
       "      <td>4679606.0</td>\n",
       "      <td>both</td>\n",
       "    </tr>\n",
       "    <tr>\n",
       "      <th>2</th>\n",
       "      <td>2005-10-03</td>\n",
       "      <td>0.435000</td>\n",
       "      <td>0.435000</td>\n",
       "      <td>0.425</td>\n",
       "      <td>0.430000</td>\n",
       "      <td>0.360377</td>\n",
       "      <td>690.0</td>\n",
       "      <td>2.691198</td>\n",
       "      <td>2.734257</td>\n",
       "      <td>2.669669</td>\n",
       "      <td>2.669669</td>\n",
       "      <td>2.545592</td>\n",
       "      <td>2584814.0</td>\n",
       "      <td>both</td>\n",
       "    </tr>\n",
       "    <tr>\n",
       "      <th>3</th>\n",
       "      <td>2005-10-04</td>\n",
       "      <td>0.435000</td>\n",
       "      <td>0.435000</td>\n",
       "      <td>0.435</td>\n",
       "      <td>0.435000</td>\n",
       "      <td>0.364567</td>\n",
       "      <td>130.0</td>\n",
       "      <td>2.691198</td>\n",
       "      <td>2.723493</td>\n",
       "      <td>2.605080</td>\n",
       "      <td>2.605080</td>\n",
       "      <td>2.484005</td>\n",
       "      <td>3813356.0</td>\n",
       "      <td>both</td>\n",
       "    </tr>\n",
       "    <tr>\n",
       "      <th>4</th>\n",
       "      <td>2005-10-05</td>\n",
       "      <td>0.430000</td>\n",
       "      <td>0.430000</td>\n",
       "      <td>0.420</td>\n",
       "      <td>0.425000</td>\n",
       "      <td>0.356187</td>\n",
       "      <td>890.0</td>\n",
       "      <td>2.572785</td>\n",
       "      <td>2.583550</td>\n",
       "      <td>2.486667</td>\n",
       "      <td>2.508197</td>\n",
       "      <td>2.391625</td>\n",
       "      <td>4147779.0</td>\n",
       "      <td>both</td>\n",
       "    </tr>\n",
       "    <tr>\n",
       "      <th>...</th>\n",
       "      <td>...</td>\n",
       "      <td>...</td>\n",
       "      <td>...</td>\n",
       "      <td>...</td>\n",
       "      <td>...</td>\n",
       "      <td>...</td>\n",
       "      <td>...</td>\n",
       "      <td>...</td>\n",
       "      <td>...</td>\n",
       "      <td>...</td>\n",
       "      <td>...</td>\n",
       "      <td>...</td>\n",
       "      <td>...</td>\n",
       "      <td>...</td>\n",
       "    </tr>\n",
       "    <tr>\n",
       "      <th>3813</th>\n",
       "      <td>2021-03-09</td>\n",
       "      <td>22.000000</td>\n",
       "      <td>23.299999</td>\n",
       "      <td>20.900</td>\n",
       "      <td>22.450001</td>\n",
       "      <td>22.450001</td>\n",
       "      <td>97850780.0</td>\n",
       "      <td>175.000000</td>\n",
       "      <td>184.899994</td>\n",
       "      <td>163.500000</td>\n",
       "      <td>176.500000</td>\n",
       "      <td>176.500000</td>\n",
       "      <td>22616678.0</td>\n",
       "      <td>both</td>\n",
       "    </tr>\n",
       "    <tr>\n",
       "      <th>3814</th>\n",
       "      <td>2021-03-10</td>\n",
       "      <td>23.950001</td>\n",
       "      <td>23.950001</td>\n",
       "      <td>22.750</td>\n",
       "      <td>23.049999</td>\n",
       "      <td>23.049999</td>\n",
       "      <td>65089357.0</td>\n",
       "      <td>193.000000</td>\n",
       "      <td>193.500000</td>\n",
       "      <td>185.000000</td>\n",
       "      <td>185.699997</td>\n",
       "      <td>185.699997</td>\n",
       "      <td>16649480.0</td>\n",
       "      <td>both</td>\n",
       "    </tr>\n",
       "    <tr>\n",
       "      <th>3815</th>\n",
       "      <td>2021-03-11</td>\n",
       "      <td>23.049999</td>\n",
       "      <td>24.100000</td>\n",
       "      <td>23.000</td>\n",
       "      <td>23.950001</td>\n",
       "      <td>23.950001</td>\n",
       "      <td>47305469.0</td>\n",
       "      <td>188.000000</td>\n",
       "      <td>196.100006</td>\n",
       "      <td>185.000000</td>\n",
       "      <td>196.100006</td>\n",
       "      <td>196.100006</td>\n",
       "      <td>8602919.0</td>\n",
       "      <td>both</td>\n",
       "    </tr>\n",
       "    <tr>\n",
       "      <th>3816</th>\n",
       "      <td>2021-03-12</td>\n",
       "      <td>24.400000</td>\n",
       "      <td>24.650000</td>\n",
       "      <td>23.600</td>\n",
       "      <td>23.750000</td>\n",
       "      <td>23.750000</td>\n",
       "      <td>53370874.0</td>\n",
       "      <td>201.600006</td>\n",
       "      <td>203.000000</td>\n",
       "      <td>190.000000</td>\n",
       "      <td>191.100006</td>\n",
       "      <td>191.100006</td>\n",
       "      <td>12029597.0</td>\n",
       "      <td>both</td>\n",
       "    </tr>\n",
       "    <tr>\n",
       "      <th>3818</th>\n",
       "      <td>2021-03-16</td>\n",
       "      <td>23.500000</td>\n",
       "      <td>24.200001</td>\n",
       "      <td>23.500</td>\n",
       "      <td>23.950001</td>\n",
       "      <td>23.950001</td>\n",
       "      <td>46511449.0</td>\n",
       "      <td>188.600006</td>\n",
       "      <td>193.699997</td>\n",
       "      <td>187.199997</td>\n",
       "      <td>191.000000</td>\n",
       "      <td>191.000000</td>\n",
       "      <td>6555190.0</td>\n",
       "      <td>both</td>\n",
       "    </tr>\n",
       "  </tbody>\n",
       "</table>\n",
       "<p>3802 rows × 14 columns</p>\n",
       "</div>"
      ],
      "text/plain": [
       "            Date     Open_x     High_x   Low_x    Close_x  Adj Close_x  \\\n",
       "0     2005-09-29   0.410000   0.430000   0.410   0.430000     0.360377   \n",
       "1     2005-09-30   0.430000   0.440000   0.430   0.435000     0.364567   \n",
       "2     2005-10-03   0.435000   0.435000   0.425   0.430000     0.360377   \n",
       "3     2005-10-04   0.435000   0.435000   0.435   0.435000     0.364567   \n",
       "4     2005-10-05   0.430000   0.430000   0.420   0.425000     0.356187   \n",
       "...          ...        ...        ...     ...        ...          ...   \n",
       "3813  2021-03-09  22.000000  23.299999  20.900  22.450001    22.450001   \n",
       "3814  2021-03-10  23.950001  23.950001  22.750  23.049999    23.049999   \n",
       "3815  2021-03-11  23.049999  24.100000  23.000  23.950001    23.950001   \n",
       "3816  2021-03-12  24.400000  24.650000  23.600  23.750000    23.750000   \n",
       "3818  2021-03-16  23.500000  24.200001  23.500  23.950001    23.950001   \n",
       "\n",
       "        Volume_x      Open_y      High_y       Low_y     Close_y  Adj Close_y  \\\n",
       "0         3840.0    2.669669    2.798846    2.669669    2.798846     2.668765   \n",
       "1         2235.0    2.884964    2.884964    2.648139    2.680433     2.555856   \n",
       "2          690.0    2.691198    2.734257    2.669669    2.669669     2.545592   \n",
       "3          130.0    2.691198    2.723493    2.605080    2.605080     2.484005   \n",
       "4          890.0    2.572785    2.583550    2.486667    2.508197     2.391625   \n",
       "...          ...         ...         ...         ...         ...          ...   \n",
       "3813  97850780.0  175.000000  184.899994  163.500000  176.500000   176.500000   \n",
       "3814  65089357.0  193.000000  193.500000  185.000000  185.699997   185.699997   \n",
       "3815  47305469.0  188.000000  196.100006  185.000000  196.100006   196.100006   \n",
       "3816  53370874.0  201.600006  203.000000  190.000000  191.100006   191.100006   \n",
       "3818  46511449.0  188.600006  193.699997  187.199997  191.000000   191.000000   \n",
       "\n",
       "        Volume_y _merge  \n",
       "0      8595147.0   both  \n",
       "1      4679606.0   both  \n",
       "2      2584814.0   both  \n",
       "3      3813356.0   both  \n",
       "4      4147779.0   both  \n",
       "...          ...    ...  \n",
       "3813  22616678.0   both  \n",
       "3814  16649480.0   both  \n",
       "3815   8602919.0   both  \n",
       "3816  12029597.0   both  \n",
       "3818   6555190.0   both  \n",
       "\n",
       "[3802 rows x 14 columns]"
      ]
     },
     "execution_count": 38,
     "metadata": {},
     "output_type": "execute_result"
    }
   ],
   "source": [
    "newAdd"
   ]
  },
  {
   "cell_type": "code",
   "execution_count": 35,
   "metadata": {},
   "outputs": [],
   "source": [
    "Close_x = newAdd.Close_x.tolist()\n",
    "Close_y = newAdd.Close_y.tolist()"
   ]
  },
  {
   "cell_type": "code",
   "execution_count": 36,
   "metadata": {},
   "outputs": [
    {
     "data": {
      "text/plain": [
       "array([[1.        , 0.68697986],\n",
       "       [0.68697986, 1.        ]])"
      ]
     },
     "execution_count": 36,
     "metadata": {},
     "output_type": "execute_result"
    }
   ],
   "source": [
    "np.corrcoef(Close_x, Close_y)"
   ]
  },
  {
   "cell_type": "code",
   "execution_count": 37,
   "metadata": {},
   "outputs": [
    {
     "data": {
      "image/png": "[encoded data removed]",
      "text/plain": [
       "<Figure size 432x288 with 1 Axes>"
      ]
     },
     "metadata": {},
     "output_type": "display_data"
    }
   ],
   "source": [
    "import matplotlib\n",
    "import matplotlib.pyplot as plt\n",
    "matplotlib.style.use('ggplot')\n",
    "\n",
    "plt.scatter(Close_x, Close_y)\n",
    "plt.show()"
   ]
  }
 ],
 "metadata": {
  "kernelspec": {
   "display_name": "Python 3",
   "language": "python",
   "name": "python3"
  },
  "language_info": {
   "codemirror_mode": {
    "name": "ipython",
    "version": 3
   },
   "file_extension": ".py",
   "mimetype": "text/x-python",
   "name": "python",
   "nbconvert_exporter": "python",
   "pygments_lexer": "ipython3",
   "version": "3.8.3"
  }
 },
 "nbformat": 4,
 "nbformat_minor": 4
}
